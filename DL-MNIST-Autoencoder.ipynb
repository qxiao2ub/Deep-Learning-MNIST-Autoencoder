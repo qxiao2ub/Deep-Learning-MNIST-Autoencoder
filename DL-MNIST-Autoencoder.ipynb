{
 "cells": [
  {
   "cell_type": "code",
   "execution_count": 3,
   "id": "ca7ad560",
   "metadata": {},
   "outputs": [],
   "source": [
    "from keras.datasets import mnist\n",
    "import numpy as np\n",
    "(X_train, y_train), (X_test, y_test) = mnist.load_data()"
   ]
  },
  {
   "cell_type": "code",
   "execution_count": 7,
   "id": "5f94bc5d",
   "metadata": {},
   "outputs": [
    {
     "name": "stdout",
     "output_type": "stream",
     "text": [
      "1/1 [==============================] - 0s 35ms/step\n"
     ]
    },
    {
     "data": {
      "text/plain": [
       "({'loss': [0.23277722299098969,\n",
       "   0.16729843616485596,\n",
       "   0.08953818678855896,\n",
       "   0.04208642616868019,\n",
       "   0.021185941994190216,\n",
       "   0.01208675280213356,\n",
       "   0.00766041548922658,\n",
       "   0.005245685577392578,\n",
       "   0.0038011560682207346,\n",
       "   0.0028733278159052134],\n",
       "  'val_loss': [0.2066081315279007,\n",
       "   0.12480094283819199,\n",
       "   0.05963481590151787,\n",
       "   0.028564387932419777,\n",
       "   0.015431244857609272,\n",
       "   0.009371906518936157,\n",
       "   0.006218587979674339,\n",
       "   0.004401579964905977,\n",
       "   0.003268204163759947,\n",
       "   0.002516534412279725]},\n",
       " array([[0., 0., 0., ..., 0., 0., 0.],\n",
       "        [0., 0., 0., ..., 0., 0., 0.],\n",
       "        [0., 0., 0., ..., 0., 0., 0.],\n",
       "        ...,\n",
       "        [0., 0., 0., ..., 0., 0., 0.],\n",
       "        [0., 0., 0., ..., 0., 0., 0.],\n",
       "        [0., 0., 0., ..., 0., 0., 0.]], dtype=float32),\n",
       " array([[0.04857615, 0.051183  , 0.05168973, ..., 0.05336326, 0.04941296,\n",
       "         0.0497493 ],\n",
       "        [0.04857615, 0.05118301, 0.05168974, ..., 0.05336323, 0.04941297,\n",
       "         0.0497493 ],\n",
       "        [0.04857614, 0.051183  , 0.05168973, ..., 0.05336323, 0.04941297,\n",
       "         0.0497493 ],\n",
       "        ...,\n",
       "        [0.04857615, 0.051183  , 0.05168973, ..., 0.05336326, 0.04941297,\n",
       "         0.0497493 ],\n",
       "        [0.04857615, 0.05118301, 0.05168974, ..., 0.05336326, 0.04941297,\n",
       "         0.0497493 ],\n",
       "        [0.04857614, 0.051183  , 0.05168973, ..., 0.05336323, 0.04941296,\n",
       "         0.0497493 ]], dtype=float32))"
      ]
     },
     "execution_count": 7,
     "metadata": {},
     "output_type": "execute_result"
    }
   ],
   "source": [
    "from tensorflow.keras.datasets import mnist\n",
    "from tensorflow.keras.models import Model\n",
    "from tensorflow.keras.layers import Input, Dense\n",
    "from tensorflow.keras.optimizers import Adam\n",
    "import numpy as np\n",
    "import matplotlib.pyplot as plt\n",
    "import random\n",
    "\n",
    "# Load and normalization\n",
    "X_train = X_train.astype(\"float32\") / 255.\n",
    "X_test = X_test.astype(\"float32\") / 255.\n",
    "\n",
    "# First flatten images\n",
    "X_train_flat = X_train.reshape((len(X_train), -1))\n",
    "X_test_flat = X_test.reshape((len(X_test), -1))\n",
    "\n",
    "# Second get autoencoder with bottleneck\n",
    "encoding_dim = 14\n",
    "input_img = Input(shape=(784,))\n",
    "encoded = Dense(encoding_dim, activation='relu')(input_img)\n",
    "decoded = Dense(784, activation='sigmoid')(encoded)\n",
    "\n",
    "autoencoder = Model(input_img, decoded)\n",
    "autoencoder.compile(optimizer=Adam(), loss='mse')\n",
    "\n",
    "# Third train autoencoder\n",
    "history = autoencoder.fit(\n",
    "    X_train_flat, X_train_flat,\n",
    "    epochs=10,\n",
    "    batch_size=512,\n",
    "    shuffle=True,\n",
    "    validation_split=0.2,\n",
    "    verbose=0\n",
    ")\n",
    "\n",
    "# Last reconstruct 5 random test images\n",
    "n = 7\n",
    "indices = np.random.choice(len(X_test_flat), n, replace=False)\n",
    "samples = X_test_flat[indices]\n",
    "reconstructions = autoencoder.predict(samples)\n",
    "\n",
    "# Plotting\n",
    "history.history, samples, reconstructions"
   ]
  }
 ],
 "metadata": {
  "kernelspec": {
   "display_name": "Python 3",
   "language": "python",
   "name": "python3"
  },
  "language_info": {
   "codemirror_mode": {
    "name": "ipython",
    "version": 3
   },
   "file_extension": ".py",
   "mimetype": "text/x-python",
   "name": "python",
   "nbconvert_exporter": "python",
   "pygments_lexer": "ipython3",
   "version": "3.7.6"
  }
 },
 "nbformat": 4,
 "nbformat_minor": 5
}
